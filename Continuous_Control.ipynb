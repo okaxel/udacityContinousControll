{
 "cells": [
  {
   "cell_type": "markdown",
   "metadata": {},
   "source": [
    "# Continuous Control\n",
    "\n",
    "---\n",
    "\n",
    "In this notebook, you will learn how to use the Unity ML-Agents environment for the second project of the [Deep Reinforcement Learning Nanodegree](https://www.udacity.com/course/deep-reinforcement-learning-nanodegree--nd893) program.\n",
    "\n",
    "### 1. Start the Environment\n",
    "\n",
    "We begin by importing the necessary packages.  If the code cell below returns an error, please revisit the project instructions to double-check that you have installed [Unity ML-Agents](https://github.com/Unity-Technologies/ml-agents/blob/master/docs/Installation.md) and [NumPy](http://www.numpy.org/)."
   ]
  },
  {
   "cell_type": "code",
   "execution_count": 1,
   "metadata": {},
   "outputs": [],
   "source": [
    "from unityagents import UnityEnvironment\n",
    "import numpy as np"
   ]
  },
  {
   "cell_type": "markdown",
   "metadata": {},
   "source": [
    "Next, we will start the environment!  **_Before running the code cell below_**, change the `file_name` parameter to match the location of the Unity environment that you downloaded.\n",
    "\n",
    "- **Mac**: `\"path/to/Reacher.app\"`\n",
    "- **Windows** (x86): `\"path/to/Reacher_Windows_x86/Reacher.exe\"`\n",
    "- **Windows** (x86_64): `\"path/to/Reacher_Windows_x86_64/Reacher.exe\"`\n",
    "- **Linux** (x86): `\"path/to/Reacher_Linux/Reacher.x86\"`\n",
    "- **Linux** (x86_64): `\"path/to/Reacher_Linux/Reacher.x86_64\"`\n",
    "- **Linux** (x86, headless): `\"path/to/Reacher_Linux_NoVis/Reacher.x86\"`\n",
    "- **Linux** (x86_64, headless): `\"path/to/Reacher_Linux_NoVis/Reacher.x86_64\"`\n",
    "\n",
    "For instance, if you are using a Mac, then you downloaded `Reacher.app`.  If this file is in the same folder as the notebook, then the line below should appear as follows:\n",
    "```\n",
    "env = UnityEnvironment(file_name=\"Reacher.app\")\n",
    "```"
   ]
  },
  {
   "cell_type": "code",
   "execution_count": 2,
   "metadata": {},
   "outputs": [
    {
     "name": "stderr",
     "output_type": "stream",
     "text": [
      "INFO:unityagents:\n",
      "'Academy' started successfully!\n",
      "Unity Academy name: Academy\n",
      "        Number of Brains: 1\n",
      "        Number of External Brains : 1\n",
      "        Lesson number : 0\n",
      "        Reset Parameters :\n",
      "\t\tgoal_speed -> 1.0\n",
      "\t\tgoal_size -> 5.0\n",
      "Unity brain name: ReacherBrain\n",
      "        Number of Visual Observations (per agent): 0\n",
      "        Vector Observation space type: continuous\n",
      "        Vector Observation space size (per agent): 33\n",
      "        Number of stacked Vector Observation: 1\n",
      "        Vector Action space type: continuous\n",
      "        Vector Action space size (per agent): 4\n",
      "        Vector Action descriptions: , , , \n"
     ]
    }
   ],
   "source": [
    "env = UnityEnvironment(file_name='./Reacher_Windows_x86_64/Reacher.exe')"
   ]
  },
  {
   "cell_type": "markdown",
   "metadata": {},
   "source": [
    "Environments contain **_brains_** which are responsible for deciding the actions of their associated agents. Here we check for the first brain available, and set it as the default brain we will be controlling from Python."
   ]
  },
  {
   "cell_type": "code",
   "execution_count": 3,
   "metadata": {},
   "outputs": [],
   "source": [
    "# get the default brain\n",
    "brain_name = env.brain_names[0]\n",
    "brain = env.brains[brain_name]"
   ]
  },
  {
   "cell_type": "markdown",
   "metadata": {},
   "source": [
    "### 2. Examine the State and Action Spaces\n",
    "\n",
    "In this environment, a double-jointed arm can move to target locations. A reward of `+0.1` is provided for each step that the agent's hand is in the goal location. Thus, the goal of your agent is to maintain its position at the target location for as many time steps as possible.\n",
    "\n",
    "The observation space consists of `33` variables corresponding to position, rotation, velocity, and angular velocities of the arm.  Each action is a vector with four numbers, corresponding to torque applicable to two joints.  Every entry in the action vector must be a number between `-1` and `1`.\n",
    "\n",
    "Run the code cell below to print some information about the environment."
   ]
  },
  {
   "cell_type": "code",
   "execution_count": 4,
   "metadata": {},
   "outputs": [
    {
     "name": "stdout",
     "output_type": "stream",
     "text": [
      "Number of agents: 1\n",
      "Size of each action: 4\n",
      "There are 1 agents. Each observes a state with length: 33\n",
      "The state for the first agent looks like: [ 0.00000000e+00 -4.00000000e+00  0.00000000e+00  1.00000000e+00\n",
      " -0.00000000e+00 -0.00000000e+00 -4.37113883e-08  0.00000000e+00\n",
      "  0.00000000e+00  0.00000000e+00  0.00000000e+00  0.00000000e+00\n",
      "  0.00000000e+00  0.00000000e+00 -1.00000000e+01  0.00000000e+00\n",
      "  1.00000000e+00 -0.00000000e+00 -0.00000000e+00 -4.37113883e-08\n",
      "  0.00000000e+00  0.00000000e+00  0.00000000e+00  0.00000000e+00\n",
      "  0.00000000e+00  0.00000000e+00  5.75471878e+00 -1.00000000e+00\n",
      "  5.55726671e+00  0.00000000e+00  1.00000000e+00  0.00000000e+00\n",
      " -1.68164849e-01]\n"
     ]
    }
   ],
   "source": [
    "# reset the environment\n",
    "env_info = env.reset(train_mode=True)[brain_name]\n",
    "\n",
    "# number of agents\n",
    "num_agents = len(env_info.agents)\n",
    "print('Number of agents:', num_agents)\n",
    "\n",
    "# size of each action\n",
    "action_size = brain.vector_action_space_size\n",
    "print('Size of each action:', action_size)\n",
    "\n",
    "# examine the state space \n",
    "states = env_info.vector_observations\n",
    "state_size = states.shape[1]\n",
    "print('There are {} agents. Each observes a state with length: {}'.format(states.shape[0], state_size))\n",
    "print('The state for the first agent looks like:', states[0])"
   ]
  },
  {
   "cell_type": "markdown",
   "metadata": {},
   "source": [
    "### 3. Let's learn the basics of robotics\n",
    "\n",
    "In the sections below I'll demonstrate how to solve the environment with one agent approach.\n",
    "\n",
    "However doing all the code aint the best practice usually because of reusability, this time I'll put everything in this file to ensure a better overview of the whole code.\n",
    "\n",
    "Furthermore I decided to break the code functionally and by structure as well. Therfore this file seems to be a bit over-structured.\n",
    "\n",
    "#### 3.1. Importing modules and adding some jupyter-notebook magic\n",
    "\n",
    "##### 3.1.1. Importing modules"
   ]
  },
  {
   "cell_type": "code",
   "execution_count": 5,
   "metadata": {},
   "outputs": [],
   "source": [
    "from collections import deque, namedtuple\n",
    "import copy\n",
    "import matplotlib.pyplot as plt\n",
    "import numpy as np\n",
    "import pandas as pd\n",
    "import random\n",
    "import torch\n",
    "from torch import nn, optim\n",
    "import torch.nn.functional as F"
   ]
  },
  {
   "cell_type": "markdown",
   "metadata": {},
   "source": [
    "##### 3.1.2. Jupyter-notebook magic\n",
    "\n",
    "The magic is here - let matplotlib in the lines."
   ]
  },
  {
   "cell_type": "code",
   "execution_count": 6,
   "metadata": {},
   "outputs": [],
   "source": [
    "%matplotlib inline"
   ]
  },
  {
   "cell_type": "markdown",
   "metadata": {},
   "source": [
    "#### 3.2. Parameters\n",
    "\n",
    "##### 3.2.1. CONSTANTS\n",
    "\n",
    "The following CONSTANTS influece the training process. Play with them if you're up to."
   ]
  },
  {
   "cell_type": "code",
   "execution_count": 7,
   "metadata": {},
   "outputs": [],
   "source": [
    "BATCH_SIZE = 1024\t\t\t# Size of the replay buffer.\n",
    "BUFFER_SIZE = 100000\t\t# Size of the mini batches.\n",
    "EPSILON = 1\t\t\t\t\t# Value of exploit strength to real explore.\n",
    "EPSILON_DECAY = 0.000001\t# Value of epsilon decay episode by episode.\n",
    "GAMMA = 0.99\t\t\t\t# Discount factor, Gamma.\n",
    "L2_WEIGHT_DECAY = 0\t\t\t# L2 weight decay.\n",
    "LR_ACTOR = 0.0001\t\t\t# Learning rate of the actor.\n",
    "LR_CRITIC = 0.0001\t\t\t# Learning rate of the critic.\n",
    "TAU = 0.001\t\t\t\t\t# Tau serves to set soft update of target parameters."
   ]
  },
  {
   "cell_type": "markdown",
   "metadata": {},
   "source": [
    "##### 3.2.2. Globally significant variables"
   ]
  },
  {
   "cell_type": "code",
   "execution_count": 8,
   "metadata": {},
   "outputs": [
    {
     "name": "stdout",
     "output_type": "stream",
     "text": [
      "Training on cuda.\n"
     ]
    }
   ],
   "source": [
    "device = torch.device('cuda' if torch.cuda.is_available() else 'cpu')\n",
    "print('Training on {}.'.format(device))"
   ]
  },
  {
   "cell_type": "markdown",
   "metadata": {},
   "source": [
    "#### 3.3. Classes\n",
    "\n",
    "##### 3.3.1. Actor"
   ]
  },
  {
   "cell_type": "code",
   "execution_count": 9,
   "metadata": {},
   "outputs": [],
   "source": [
    "class Actor(nn.Module):\n",
    "    \"\"\"\n",
    "    This class represents an Actor (Policy) Model. It inherts from PyTorch NN Module.\n",
    "    __init__(), forward() and reset_parameters() are overwritten only.\n",
    "    \"\"\"\n",
    "    \n",
    "    \n",
    "    \n",
    "    def __init__(self, state_size, action_size, seed, fc1_units=1024, fc2_units=256, fc3_units=64):\n",
    "        \"\"\"\n",
    "        Initializes the class.\n",
    "        ----------------------\n",
    "        @Params:\tstate_size\t(int)\tCount of state's dimensions.\n",
    "                    action_size\t(int)\tCount of action's dimensions.\n",
    "                    seed\t\t(int)\tRendom seed.\n",
    "                    fc1_size\t(int)\t[optional] Count of nodes in the 1st fully connected layer.\n",
    "                    fc2_size\t(int)\t[optional] Count of nodes in the 2nd fully connected layer.\n",
    "        \"\"\"\n",
    "        super(Actor, self).__init__()\n",
    "\n",
    "        self.seed = torch.manual_seed(seed)\n",
    "\n",
    "        self.bn = nn.BatchNorm1d(state_size)\n",
    "        self.fc1 = nn.Linear(state_size, fc1_units)\n",
    "        self.fc2 = nn.Linear(fc1_units, fc2_units)\n",
    "        self.fc3 = nn.Linear(fc2_units, fc3_units)\n",
    "        self.fc4 = nn.Linear(fc3_units, action_size)\n",
    "        \n",
    "        self.reset_parameters()\n",
    "    \n",
    "    \n",
    "    \n",
    "    def forward(self, state):\n",
    "        \"\"\"\n",
    "        Fordwards the input (state) through the whole network and returns the network's output.\n",
    "        ---------------------------------------------------------------------------------------\n",
    "        @Params:\tstate\t(torch.Tensor)\tInput data (state).\n",
    "        @Return:\t(torch.Tensor)\t\t\tThe output of the network (action).\n",
    "        \"\"\"\n",
    "        state = self.bn(state)\n",
    "        x = F.relu(self.fc1(state))\n",
    "        x = F.relu(self.fc2(x))\n",
    "        x = F.relu(self.fc3(x))\n",
    "        \n",
    "        return self.fc4(x).tanh()\n",
    "    \n",
    "    \n",
    "    \n",
    "    def reset_parameters(self):\n",
    "        \"\"\"\n",
    "        Resets weights.\n",
    "        ---------------\n",
    "        \"\"\"\n",
    "        self.fc1.weight.data.uniform_(*hidden_init(self.fc1))\n",
    "        self.fc2.weight.data.uniform_(*hidden_init(self.fc2))\n",
    "        self.fc3.weight.data.uniform_(*hidden_init(self.fc2))\n",
    "        self.fc4.weight.data.uniform_(-0.003, 0.003)"
   ]
  },
  {
   "cell_type": "markdown",
   "metadata": {},
   "source": [
    "##### 3.3.2. Agent"
   ]
  },
  {
   "cell_type": "code",
   "execution_count": 10,
   "metadata": {},
   "outputs": [],
   "source": [
    "class Agent(object):\n",
    "    \"\"\"\n",
    "    This class represents an agent who inteacts with the environment and can learn from it.\n",
    "    This class doesn't really have any superclass aside of object which is the top most superclass usually.\n",
    "    \"\"\"\n",
    "    \n",
    "    \n",
    "    \n",
    "    def __init__(self, state_size, action_size, random_seed):\n",
    "        \"\"\"\n",
    "        Initializes the class.\n",
    "        ----------------------\n",
    "        @Params:\tstate_size\t\t(int)\tCount of state's dimensions.\n",
    "                    action_size\t\t(int)\tCount of action's dimensions.\n",
    "                    seed\t\t\t(int)\tRendom seed.\n",
    "        \"\"\"\n",
    "        global BATCH_SIZE\n",
    "        global BUFFER_SIZE\n",
    "        global EPSILON\n",
    "        global LR_ACTOR\n",
    "        global LR_CRITIC\n",
    "        global L2_WEIGHT_DECAY\n",
    "        \n",
    "        global davice\n",
    "        \n",
    "        self.state_size = state_size\n",
    "        self.action_size = action_size\n",
    "        self.epsilon = EPSILON\n",
    "        \n",
    "        self.seed = random.seed(random_seed)\n",
    "\n",
    "        self.actor_local = Actor(state_size, action_size, random_seed).to(device)\n",
    "        self.actor_target = Actor(state_size, action_size, random_seed).to(device)\n",
    "        self.actor_optimizer = optim.Adam(self.actor_local.parameters(), lr=LR_ACTOR)\n",
    "\n",
    "        self.critic_local = Critic(state_size, action_size, random_seed).to(device)\n",
    "        self.critic_target = Critic(state_size, action_size, random_seed).to(device)\n",
    "        self.critic_optimizer = optim.Adam(self.critic_local.parameters(), lr=LR_CRITIC, weight_decay=L2_WEIGHT_DECAY)\n",
    "\n",
    "        self.noise = Noise(action_size, random_seed)\n",
    "\n",
    "        self.memory = ReplayBuffer(action_size, BUFFER_SIZE, BATCH_SIZE, random_seed)\n",
    "        \n",
    "        \n",
    "        \n",
    "    def act(self, state, act_noisy=True):\n",
    "        \"\"\"\n",
    "        Performs an action from the given state and adds noise actions if needed.\n",
    "        -------------------------------------------------------------------------\n",
    "        @Params:\tstate\t\t(array like)\tCurrent state.\n",
    "                    act_noisy\t(boolean)\t\tWhether to add noise or not.\n",
    "        \"\"\"\n",
    "        state = torch.from_numpy(state).float().to(device)\n",
    "\n",
    "        self.actor_local.eval()\n",
    "        with torch.no_grad():\n",
    "            action = self.actor_local(state).cpu().data.numpy()\n",
    "        self.actor_local.train()\n",
    "\n",
    "        if act_noisy:\n",
    "            # action += self.epsilon * self.noise.sample()\n",
    "            action += self.noise.sample()\n",
    "        \n",
    "        # Keep valid action samples only.\n",
    "        return np.clip(action, -1, 1)\n",
    "    \n",
    "    \n",
    "    \n",
    "    def learn(self, experiences, gamma):\n",
    "        \"\"\"\n",
    "        Performs experience based update of parameters.\n",
    "        -----------------------------------------------\n",
    "        @Params:\texperience\t(tuple)\tExperiences to work with.\n",
    "                    gamma\t\t(float)\tThe value of the discount factor.\n",
    "        \"\"\"\n",
    "        global EPSILON_DECAY\n",
    "        global TAU\n",
    "        \n",
    "        states, actions, rewards, next_states, dones = experiences\n",
    "\n",
    "        # Those lines below serve to calculate targets and Q-values.\n",
    "        actions_next = self.actor_target(next_states)\n",
    "        Q_targets_next = self.critic_target(next_states, actions_next)\n",
    "        Q_targets = rewards + (gamma * Q_targets_next * (1 - dones))\n",
    "        Q_expected = self.critic_local(states, actions)\n",
    "\n",
    "        # Critic network is updated here.\n",
    "        critic_loss = F.mse_loss(Q_expected, Q_targets)\n",
    "        self.critic_optimizer.zero_grad()\n",
    "        critic_loss.backward()\n",
    "        torch.nn.utils.clip_grad_norm_(self.critic_local.parameters(), 1)\n",
    "        self.critic_optimizer.step()\n",
    "\n",
    "        # Finally actor netowrk is updated too with the help of the critic network.\n",
    "        actions_pred = self.actor_local(states)\n",
    "        actor_loss = -self.critic_local(states, actions_pred).mean()\n",
    "        self.actor_optimizer.zero_grad()\n",
    "        actor_loss.backward()\n",
    "        self.actor_optimizer.step()\n",
    "\n",
    "        # Both actor and critic network need a soft update.\n",
    "        self.soft_update(self.critic_local, self.critic_target, TAU)\n",
    "        self.soft_update(self.actor_local, self.actor_target, TAU)\n",
    "        \n",
    "        self.epsilon -= EPSILON_DECAY\n",
    "        self.reset()\n",
    "    \n",
    "    \n",
    "    \n",
    "    def reset(self):\n",
    "        \"\"\"\n",
    "        Resets the used noise.\n",
    "        ----------------------\n",
    "        \"\"\"\n",
    "        self.noise.reset()\n",
    "    \n",
    "    \n",
    "\n",
    "    def soft_update(self, local_model, target_model, tau):\n",
    "        \"\"\"\n",
    "        Performs soft update on model parameters.\n",
    "        -----------------------------------------\n",
    "        @Params:\tlocal_model\t\t(nn.Module)\tModel to copy weights from.\n",
    "                    target_model\t(nn.Module)\tModel to copy weights to.\n",
    "                    tau\t\t\t\t(float)\t\tParameter of interpolation.\n",
    "        \"\"\"\n",
    "        for target_param, local_param in zip(target_model.parameters(), local_model.parameters()):\n",
    "            target_param.data.copy_(tau * local_param.data + (1.0 - tau) * target_param.data)\n",
    "    \n",
    "    \n",
    "    \n",
    "    def step(self, states, actions, rewards, next_states, dones):\n",
    "        \"\"\"\n",
    "        Takes a step in the action-space and calls learning if needed.\n",
    "        --------------------------------------------------------------\n",
    "        @Params:\tstate\t\t(float)\tCurrent state.\n",
    "                    action\t\t(float)\tTaken action.\n",
    "                    reward\t\t(float)\tReceived reward.\n",
    "                    next_state\t(float)\tNext state (resulting state).\n",
    "                    done\t\t(float)\tWhether it's finished or not.\n",
    "        \"\"\"\n",
    "        global BATCH_SIZE\n",
    "        global GAMMA\n",
    "        \n",
    "        for state, action, reward, next_state, done in zip(states, actions, rewards, next_states, dones):\n",
    "            self.memory.add(state, action, reward, next_state, done)\n",
    "\n",
    "        if len(self.memory) > BATCH_SIZE and allow_learn:\n",
    "            experiences = self.memory.sample()\n",
    "            self.learn(experiences, GAMMA)"
   ]
  },
  {
   "cell_type": "markdown",
   "metadata": {},
   "source": [
    "##### 3.3.3. Critic"
   ]
  },
  {
   "cell_type": "code",
   "execution_count": 11,
   "metadata": {},
   "outputs": [],
   "source": [
    "class Critic(nn.Module):\n",
    "    \"\"\"\n",
    "    This class represents a Critic (Value) Model. It inherts from PyTorch NN Module.\n",
    "    __init__(), forward() and reset_parameters() are overwritten only.\n",
    "    \"\"\"\n",
    "    \n",
    "    def __init__(self, state_size, action_size, seed, fc1_units=1024, fc2_units=256, fc3_units=64):\n",
    "        \"\"\"\n",
    "        Initializes the class.\n",
    "        ----------------------\n",
    "        @Params:\tstate_size\t(int)\tCount of state's dimensions.\n",
    "                    action_size\t(int)\tCount of action's dimensions.\n",
    "                    seed\t\t(int)\tRendom seed.\n",
    "                    fc1_size\t(int)\t[optional] Count of nodes in the 1st fully connected layer.\n",
    "                    fc2_size\t(int)\t[optional] Count of nodes in the 2nd fully connected layer.\n",
    "        \"\"\"\n",
    "        super(Critic, self).__init__()\n",
    "\n",
    "        self.seed = torch.manual_seed(seed)\n",
    "        \n",
    "        self.bn = nn.BatchNorm1d(state_size)\n",
    "        self.fcs1 = nn.Linear(state_size, fc1_units)\n",
    "        self.fc2 = nn.Linear(fc1_units+action_size, fc2_units)\n",
    "        self.fc3 = nn.Linear(fc2_units, fc3_units)\n",
    "        self.fc4 = nn.Linear(fc3_units, 1)\n",
    "        \n",
    "        self.reset_parameters()\n",
    "    \n",
    "    \n",
    "    \n",
    "    def forward(self, state, action):\n",
    "        \"\"\"\n",
    "        Fordwards the input (state) through the whole network and returns the network's output.\n",
    "        ---------------------------------------------------------------------------------------\n",
    "        @Params:\tstate\t(torch.Tensor)\tStates.\n",
    "                    action\t(torch.Tensor)\tActions.\n",
    "        @Return:\t(torch.Tensor)\t\t\tQ-targets.\n",
    "        \"\"\"\n",
    "        state = self.bn(state)\n",
    "        xs = F.relu(self.fcs1(state))\n",
    "        x = torch.cat((xs, action), dim=1)\n",
    "        x = F.relu(self.fc2(x))\n",
    "        x = F.relu(self.fc3(x))\n",
    "\n",
    "        return self.fc4(x)\n",
    "    \n",
    "    \n",
    "    \n",
    "    def reset_parameters(self):\n",
    "        \"\"\"\n",
    "        Resets weights.\n",
    "        ---------------\n",
    "        \"\"\"\n",
    "        self.fcs1.weight.data.uniform_(*hidden_init(self.fcs1))\n",
    "        self.fc2.weight.data.uniform_(*hidden_init(self.fc2))\n",
    "        self.fc3.weight.data.uniform_(*hidden_init(self.fc2))\n",
    "        self.fc4.weight.data.uniform_(-0.003, 0.003)"
   ]
  },
  {
   "cell_type": "markdown",
   "metadata": {},
   "source": [
    "##### 3.3.4. Noise"
   ]
  },
  {
   "cell_type": "code",
   "execution_count": 12,
   "metadata": {},
   "outputs": [],
   "source": [
    "class Noise(object):\n",
    "    \"\"\"\n",
    "    This class creates noise to the training process. It implements the Ornstein-Uhlenbeck process.\n",
    "    This class doesn't really have any superclass aside of object which is the top most superclass usually.\n",
    "    \"\"\"\n",
    "    \n",
    "    \n",
    "    \n",
    "    def __init__(self, size, seed, mu=0.0, theta=0.15, sigma=0.2):\n",
    "        \"\"\"\n",
    "        Initializes the class.\n",
    "        ----------------------\n",
    "        @Params:\tsize\t(int)\tThe size of the noise.\n",
    "                    seed\t(int)\tRendom seed.\n",
    "                    mu\t\t(float)\tBase value of mu.\n",
    "                    theta\t(float)\tValue of theta.\n",
    "                    sigma\t(float)\tValue of sigma.\n",
    "        \"\"\"\n",
    "        self.mu = mu * np.ones(size)\n",
    "        self.theta = theta\n",
    "        self.sigma = sigma\n",
    "        self.size = size\n",
    "\n",
    "        self.seed = random.seed(seed)\n",
    "        self.reset()\n",
    "    \n",
    "    \n",
    "    \n",
    "    def reset(self):\n",
    "        \"\"\"\n",
    "        Resets the class's state to the default.\n",
    "        ----------------------------------------\n",
    "        \"\"\"\n",
    "        self.state = copy.copy(self.mu)\n",
    "    \n",
    "    \n",
    "    \n",
    "    def sample(self):\n",
    "        \"\"\"\n",
    "        Samples random noise from state and updates the state.\n",
    "        ------------------------------------------------------\n",
    "        @Return:\t(np.ndarray)\tNoise.\n",
    "        \"\"\"\n",
    "        x = self.state\n",
    "        dx = self.theta * (self.mu - x) + self.sigma * np.random.standard_normal(self.size)\n",
    "        self.state = x + dx\n",
    "\n",
    "        return self.state"
   ]
  },
  {
   "cell_type": "markdown",
   "metadata": {},
   "source": [
    "##### 3.3.5. Replay buffer"
   ]
  },
  {
   "cell_type": "code",
   "execution_count": 13,
   "metadata": {},
   "outputs": [],
   "source": [
    "class ReplayBuffer(object):\n",
    "    \"\"\"\n",
    "    This class represents the experience of the agent.\n",
    "    This class doesn't really have any superclass aside of object which is the top most superclass usually.\n",
    "    \"\"\"\n",
    "    \n",
    "    \n",
    "    \n",
    "    def __init__(self, action_size, buffer_size, batch_size, seed):\n",
    "        \"\"\"\n",
    "        Initializes the class.\n",
    "        ----------------------\n",
    "        @Params:\taction_size\t(int)\tCount of action's dimensions.\n",
    "                    buffer_size\t(int)\tSize of the actual buffer.\n",
    "                    batch_size\t(int)\tSize of training batches.\n",
    "                    seed\t\t(int)\tRendom seed.\n",
    "        \"\"\"\n",
    "        self.action_size = action_size\n",
    "        self.memory = deque(maxlen=buffer_size)  # internal memory (deque)\n",
    "        self.batch_size = batch_size\n",
    "        self.experience = namedtuple(\"Experience\", field_names=[\"state\", \"action\", \"reward\", \"next_state\", \"done\"])\n",
    "        \n",
    "        self.seed = random.seed(seed)\n",
    "    \n",
    "    \n",
    "    \n",
    "    def add(self, state, action, reward, next_state, done):\n",
    "        \"\"\"\n",
    "        Adds a new experience to the memory.\n",
    "        ------------------------------------\n",
    "        @Params:\tstate\t\t(float)\tCurrent state.\n",
    "                    action\t\t(long)\tTaken action.\n",
    "                    reward\t\t(float)\tReceived reward.\n",
    "                    next_state\t(float)\tNext state (resulting state).\n",
    "                    done\t\t(float)\tWhether it's finished or not.\n",
    "        \"\"\"\n",
    "        new_experience = self.experience(state, action, reward, next_state, done)\n",
    "        self.memory.append(new_experience)\n",
    "    \n",
    "    \n",
    "    \n",
    "    def sample(self):\n",
    "        \"\"\"\n",
    "        Samples random batches from the memory.\n",
    "        ---------------------------------------\n",
    "        @Return:\t(tuple)\tBatch\n",
    "        \"\"\"\n",
    "        global device\n",
    "        \n",
    "        experiences = random.sample(self.memory, k=self.batch_size)\n",
    "\n",
    "        states = torch.from_numpy(np.vstack([e.state for e in experiences if e is not None])).float().to(device)\n",
    "        actions = torch.from_numpy(np.vstack([e.action for e in experiences if e is not None])).float().to(device)\n",
    "        rewards = torch.from_numpy(np.vstack([e.reward for e in experiences if e is not None])).float().to(device)\n",
    "        next_states = torch.from_numpy(np.vstack([e.next_state for e in experiences if e is not None])).float().to(device)\n",
    "        dones = torch.from_numpy(np.vstack([e.done for e in experiences if e is not None]).astype(np.uint8)).float().to(device)\n",
    "\n",
    "        return (states, actions, rewards, next_states, dones)\n",
    "    \n",
    "    \n",
    "    \n",
    "    def __len__(self):\n",
    "        \"\"\"\n",
    "        Returns the size of the buffer's memory and ensures the compatibility with the len() function.\n",
    "        \"\"\"\n",
    "        return len(self.memory)"
   ]
  },
  {
   "cell_type": "markdown",
   "metadata": {},
   "source": [
    "#### 3.4. Helper functions"
   ]
  },
  {
   "cell_type": "code",
   "execution_count": 14,
   "metadata": {},
   "outputs": [],
   "source": [
    "def drawresults(scores, save_to=None):\n",
    "    \"\"\"\n",
    "    Draws and saves scores.\n",
    "    -----------------------\n",
    "    @Params:\tscores\t(list like)\tScores to display.\n",
    "                save_to\t(string)\t[optional] File name to save figure if given.\n",
    "    \"\"\"\n",
    "    fig, ax = plt.subplots(1, 1, figsize=[10, 5])\n",
    "    plt.rcParams.update({'font.size': 16})\n",
    "    scores_rolling = pd.Series(scores).rolling(100).mean()\n",
    "    ax.plot(scores)\n",
    "    ax.plot(scores_rolling, c=\"green\", linewidth=3)\n",
    "    ax.set_xlabel(\"Episodes\")\n",
    "    ax.set_ylabel(\"Score\")\n",
    "    ax.grid(which=\"major\")\n",
    "    ax.axhline(30, c=\"red\", linewidth=3)\n",
    "    ax.legend([\"Scores of episodes\", \"Average of last 100 episodes\", \"Target score=30\"])\n",
    "    \n",
    "    if save_to != None:\n",
    "        fig.savefig(save_to)\n",
    "    \n",
    "    \n",
    "    \n",
    "def hidden_init(layer):\n",
    "    \"\"\"\n",
    "    Initializes a layer with the process of: 1.0 / sqrt(layer)\n",
    "    ----------------------------------------------------------\n",
    "    @Params:\tlayer\t(torch.Tensor)\tLayer to initialize.\n",
    "    @Return:\t(torch.Tensor)\t\t\tThe initialized layer.\n",
    "    \"\"\"\n",
    "    layer_n = layer.weight.data.size()[0]\n",
    "    lim = 1. / np.sqrt(layer_n)\n",
    "\n",
    "    return (-lim, lim)\n",
    "\n",
    "\n",
    "\n",
    "def train(episodes_count=5000, maxtimesteps=1000, print_at_every=10):\n",
    "    \"\"\"\n",
    "    Performs the training\n",
    "    ---------------------\n",
    "    @Params:\tepisode_count\t(int)\t[optional] Count of episodes.\n",
    "                maxtimesteps\t(int)\t[optional] Count of maximum timesteps\n",
    "                print_at_every\t(int)\t[optional] Length of the interval of episodes to log like print the\n",
    "                                        result.\n",
    "    @Return:\t(list of ints)\t\t\t\n",
    "    \"\"\"\n",
    "    global agent\n",
    "    global brain_name\n",
    "    global env\n",
    "    \n",
    "    scores_deque = deque(maxlen=100)\n",
    "    scores = []\n",
    "    \n",
    "    # The value of episode is more human like this way since it changes from 1...x instead of 0...x-1 and\n",
    "    # shows the number of the actual episode just like humans understand more.\n",
    "    for episode in range(1, episodes_count+1):\n",
    "        env_info = env.reset(train_mode=True)[brain_name]\n",
    "        states = env_info.vector_observations\n",
    "        score = np.zeros((20,))\n",
    "        \n",
    "        # In this functuin we should have at least one machine friendly for loop as well. :-)\n",
    "        for t in range(maxtimesteps):\n",
    "            actions = agent.act(states)\n",
    "            env_info = env.step(actions)[brain_name]\n",
    "            next_states = env_info.vector_observations\n",
    "            rewards = env_info.rewards\n",
    "            dones = env_info.local_done\n",
    "            agent.step(states, actions, rewards, next_states, dones)\n",
    "            score += np.array(rewards)\n",
    "            states = next_states            \n",
    "            \n",
    "            # Finish the episode if environment is solved.\n",
    "            if np.any(dones):\n",
    "                break\n",
    "        \n",
    "        scores_deque.append(score)\n",
    "        scores.append(np.mean(score))\n",
    "\n",
    "        print('\\rEpisode {:4d} finished, last score is {:.2f}, average of last 100 scores is {:.2f}.  '\n",
    "              .format(episode, score[-1], np.mean(scores_deque)), end='')\n",
    "        \n",
    "        if episode % print_at_every == 0:\n",
    "            print('\\rEpisode {:4d} finished, last score is {:.2f}, average of last 100 scores is {:.2f}.  '\n",
    "                  .format(episode, score[-1], np.mean(scores_deque)))\n",
    "\n",
    "        if np.mean(scores_deque)>30:\n",
    "            print('\\n\\nTraining finished.')\n",
    "            print('\\rEpisode {:4d} finished, last score is {:.2f}, average of last 100 scores is {:.2f}.  '\n",
    "                  .format(episode, score[-1], np.mean(scores_deque)))\n",
    "            torch.save(agent.actor_local.state_dict(), 'agent_actor.pth')\n",
    "            torch.save(agent.critic_local.state_dict(), 'agent_critic.pth')\n",
    "            break\n",
    "            \n",
    "    return scores    "
   ]
  },
  {
   "cell_type": "markdown",
   "metadata": {},
   "source": [
    "#### 3.5. Let's touch those arms\n",
    "\n",
    "##### 3.5.1. Instantiate the agent"
   ]
  },
  {
   "cell_type": "code",
   "execution_count": 15,
   "metadata": {},
   "outputs": [],
   "source": [
    "agent = Agent(state_size, action_size, 0)"
   ]
  },
  {
   "cell_type": "markdown",
   "metadata": {},
   "source": [
    "##### 3.5.2. Train the agent"
   ]
  },
  {
   "cell_type": "code",
   "execution_count": 16,
   "metadata": {},
   "outputs": [
    {
     "name": "stdout",
     "output_type": "stream",
     "text": [
      "Episode   10 finished, last score is 1.12, average of last 100 scores is 0.81.  \n",
      "Episode   20 finished, last score is 0.75, average of last 100 scores is 0.84.  \n",
      "Episode   30 finished, last score is 1.41, average of last 100 scores is 1.09.  \n",
      "Episode   40 finished, last score is 0.92, average of last 100 scores is 1.46.   \n",
      "Episode   50 finished, last score is 2.72, average of last 100 scores is 1.74.  \n",
      "Episode   60 finished, last score is 4.46, average of last 100 scores is 1.97.  \n",
      "Episode   70 finished, last score is 10.99, average of last 100 scores is 2.54.  \n",
      "Episode   80 finished, last score is 7.29, average of last 100 scores is 3.13.   \n",
      "Episode   90 finished, last score is 11.90, average of last 100 scores is 3.59.  \n",
      "Episode  100 finished, last score is 17.88, average of last 100 scores is 4.42.  \n",
      "Episode  110 finished, last score is 17.12, average of last 100 scores is 5.54.  \n",
      "Episode  120 finished, last score is 16.50, average of last 100 scores is 6.87.  \n",
      "Episode  130 finished, last score is 27.14, average of last 100 scores is 8.77.  \n",
      "Episode  140 finished, last score is 25.09, average of last 100 scores is 10.47.  \n",
      "Episode  150 finished, last score is 28.69, average of last 100 scores is 12.51.  \n",
      "Episode  160 finished, last score is 18.48, average of last 100 scores is 15.22.  \n",
      "Episode  170 finished, last score is 4.74, average of last 100 scores is 17.22.   \n",
      "Episode  180 finished, last score is 1.50, average of last 100 scores is 19.47.   \n",
      "Episode  190 finished, last score is 29.17, average of last 100 scores is 21.55.  \n",
      "Episode  200 finished, last score is 33.91, average of last 100 scores is 23.48.  \n",
      "Episode  210 finished, last score is 1.06, average of last 100 scores is 24.96.   \n",
      "Episode  220 finished, last score is 24.37, average of last 100 scores is 26.28.  \n",
      "Episode  230 finished, last score is 30.24, average of last 100 scores is 27.52.  \n",
      "Episode  240 finished, last score is 32.34, average of last 100 scores is 28.06.  \n",
      "Episode  250 finished, last score is 34.49, average of last 100 scores is 28.86.  \n",
      "Episode  260 finished, last score is 30.54, average of last 100 scores is 28.58.  \n",
      "Episode  270 finished, last score is 38.04, average of last 100 scores is 29.00.  \n",
      "Episode  280 finished, last score is 35.53, average of last 100 scores is 29.56.  \n",
      "Episode  284 finished, last score is 38.50, average of last 100 scores is 30.05.  \n",
      "\n",
      "Training finished.\n",
      "Episode  284 finished, last score is 38.50, average of last 100 scores is 30.05.  \n"
     ]
    }
   ],
   "source": [
    "scores = train()"
   ]
  },
  {
   "cell_type": "markdown",
   "metadata": {},
   "source": [
    "##### 3.5.3. See the scores"
   ]
  },
  {
   "cell_type": "code",
   "execution_count": 17,
   "metadata": {},
   "outputs": [
    {
     "data": {
      "image/png": "[encoded data removed]",
      "text/plain": [
       "<Figure size 720x360 with 1 Axes>"
      ]
     },
     "metadata": {
      "needs_background": "light"
     },
     "output_type": "display_data"
    }
   ],
   "source": [
    "drawresults(scores, './scores.jpg')"
   ]
  },
  {
   "cell_type": "markdown",
   "metadata": {},
   "source": [
    "#### 3.6. Test the trained agent"
   ]
  },
  {
   "cell_type": "code",
   "execution_count": 18,
   "metadata": {},
   "outputs": [
    {
     "name": "stdout",
     "output_type": "stream",
     "text": [
      "A well educated agent achieves scores with the mean 0.03999999910593033\n"
     ]
    }
   ],
   "source": [
    "agent = Agent(state_size, action_size,0)\n",
    "\n",
    "agent.actor_local.load_state_dict(torch.load('agent_actor.pth'))\n",
    "agent.critic_local.load_state_dict(torch.load('agent_critic.pth'))\n",
    "\n",
    "scores = np.zeros(20) \n",
    "\n",
    "for i in range(1000):\n",
    "    actions = agent.act(states, act_noisy=False)\n",
    "    env_info = env.step(actions)[brain_name]\n",
    "    next_states = env_info.vector_observations\n",
    "    rewards = env_info.rewards\n",
    "    dones = env_info.local_done\n",
    "    scores += env_info.rewards\n",
    "    states = next_states\n",
    "    \n",
    "    # Finish the loop if environment is solved.\n",
    "    if np.any(dones):\n",
    "        break\n",
    "\n",
    "print('A well educated agent achieves scores with the mean {}'.format(np.mean(scores)))"
   ]
  },
  {
   "cell_type": "markdown",
   "metadata": {},
   "source": [
    "#### 3.7. The end"
   ]
  },
  {
   "cell_type": "code",
   "execution_count": 19,
   "metadata": {},
   "outputs": [],
   "source": [
    "env.close()"
   ]
  }
 ],
 "metadata": {
  "kernelspec": {
   "display_name": "Python 3",
   "language": "python",
   "name": "python3"
  },
  "language_info": {
   "codemirror_mode": {
    "name": "ipython",
    "version": 3
   },
   "file_extension": ".py",
   "mimetype": "text/x-python",
   "name": "python",
   "nbconvert_exporter": "python",
   "pygments_lexer": "ipython3",
   "version": "3.6.9"
  }
 },
 "nbformat": 4,
 "nbformat_minor": 2
}
